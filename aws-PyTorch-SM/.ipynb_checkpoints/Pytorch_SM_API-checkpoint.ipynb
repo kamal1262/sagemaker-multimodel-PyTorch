{
 "cells": [
  {
   "cell_type": "markdown",
   "id": "92c4626e",
   "metadata": {},
   "source": [
    "# Train PyTorch model and deploy it with Amazon SageMaker Python SDK"
   ]
  },
  {
   "cell_type": "markdown",
   "id": "a914efc4",
   "metadata": {},
   "source": [
    "## Setup"
   ]
  },
  {
   "cell_type": "code",
   "execution_count": 1,
   "id": "16f9086c",
   "metadata": {},
   "outputs": [],
   "source": [
    "\n",
    "\n",
    "import os\n",
    "import numpy as np\n",
    "import pandas as pd\n",
    "import sagemaker\n",
    "\n",
    "sagemaker_session = sagemaker.Session()\n",
    "\n",
    "bucket = sagemaker_session.default_bucket()\n",
    "prefix = \"sagemaker/DEMO-pytorch-rea\"\n",
    "\n",
    "role = sagemaker.get_execution_role()\n",
    "\n"
   ]
  },
  {
   "cell_type": "markdown",
   "id": "1c1823bb",
   "metadata": {},
   "source": [
    "## Upload data to S3"
   ]
  },
  {
   "cell_type": "code",
   "execution_count": 3,
   "id": "b539cf0b",
   "metadata": {},
   "outputs": [],
   "source": [
    "inputs_list = sagemaker_session.upload_data(\"./data/list_seq.pickle\", bucket=bucket, key_prefix=prefix+'/train')\n",
    "inputs_dict = sagemaker_session.upload_data(\"./data/dict_loc.pickle\", bucket=bucket, key_prefix=prefix+'/train')"
   ]
  },
  {
   "cell_type": "code",
   "execution_count": 5,
   "id": "7e147552",
   "metadata": {},
   "outputs": [
    {
     "data": {
      "text/plain": [
       "'s3://sagemaker-us-east-1-761655029435/sagemaker/DEMO-pytorch-rea/train/list_seq.pickle'"
      ]
     },
     "execution_count": 5,
     "metadata": {},
     "output_type": "execute_result"
    }
   ],
   "source": [
    "inputs_list"
   ]
  },
  {
   "cell_type": "markdown",
   "id": "3f0e16bb",
   "metadata": {},
   "source": [
    "## Sagemaker Pytorch Estimator - train your model"
   ]
  },
  {
   "cell_type": "code",
   "execution_count": 7,
   "id": "43c1fb32",
   "metadata": {},
   "outputs": [
    {
     "name": "stdout",
     "output_type": "stream",
     "text": [
      "2021-04-29 15:33:26 Starting - Starting the training job...\n",
      "2021-04-29 15:33:28 Starting - Launching requested ML instances.........\n",
      "2021-04-29 15:35:01 Starting - Preparing the instances for training......\n",
      "2021-04-29 15:36:01 Downloading - Downloading input data...\n",
      "2021-04-29 15:36:49 Training - Training image download completed. Training in progress.\u001b[34mbash: cannot set terminal process group (-1): Inappropriate ioctl for device\u001b[0m\n",
      "\u001b[34mbash: no job control in this shell\u001b[0m\n",
      "\u001b[34m2021-04-29 15:36:50,457 sagemaker-training-toolkit INFO     Imported framework sagemaker_pytorch_container.training\u001b[0m\n",
      "\u001b[34m2021-04-29 15:36:50,459 sagemaker-training-toolkit INFO     No GPUs detected (normal if no gpus installed)\u001b[0m\n",
      "\u001b[34m2021-04-29 15:36:50,468 sagemaker_pytorch_container.training INFO     Block until all host DNS lookups succeed.\u001b[0m\n",
      "\u001b[34m2021-04-29 15:36:50,477 sagemaker_pytorch_container.training INFO     Invoking user training script.\u001b[0m\n",
      "\u001b[34m2021-04-29 15:36:58,170 sagemaker-training-toolkit INFO     Installing dependencies from requirements.txt:\u001b[0m\n",
      "\u001b[34m/opt/conda/bin/python3.6 -m pip install -r requirements.txt\u001b[0m\n",
      "\u001b[34mCollecting boto3==1.16.28\n",
      "  Downloading boto3-1.16.28-py2.py3-none-any.whl (129 kB)\u001b[0m\n",
      "\u001b[34mCollecting numpy==1.18.4\n",
      "  Downloading numpy-1.18.4-cp36-cp36m-manylinux1_x86_64.whl (20.2 MB)\u001b[0m\n",
      "\u001b[34mCollecting sagemaker==2.17.0\n",
      "  Downloading sagemaker-2.17.0.tar.gz (358 kB)\u001b[0m\n",
      "\u001b[34mCollecting sagemaker-training==3.6.3.post0\n",
      "  Downloading sagemaker_training-3.6.3.post0.tar.gz (40 kB)\u001b[0m\n",
      "\u001b[34mRequirement already satisfied: scipy in /opt/conda/lib/python3.6/site-packages (from -r requirements.txt (line 5)) (1.2.2)\u001b[0m\n",
      "\u001b[34mRequirement already satisfied: scikit-learn in /opt/conda/lib/python3.6/site-packages (from -r requirements.txt (line 6)) (0.24.1)\u001b[0m\n",
      "\u001b[34mCollecting smdebug==0.9.5\n",
      "  Downloading smdebug-0.9.5-py2.py3-none-any.whl (176 kB)\u001b[0m\n",
      "\u001b[34mCollecting statsmodels==0.12.1\n",
      "  Downloading statsmodels-0.12.1-cp36-cp36m-manylinux1_x86_64.whl (9.5 MB)\u001b[0m\n",
      "\u001b[34mCollecting tensorboard==2.4.0\n",
      "  Downloading tensorboard-2.4.0-py3-none-any.whl (10.6 MB)\u001b[0m\n",
      "\u001b[34mCollecting torch==1.6.0\n",
      "  Downloading torch-1.6.0-cp36-cp36m-manylinux1_x86_64.whl (748.8 MB)\u001b[0m\n",
      "\u001b[34mCollecting torchvision==0.7.0\n",
      "  Downloading torchvision-0.7.0-cp36-cp36m-manylinux1_x86_64.whl (5.9 MB)\u001b[0m\n",
      "\u001b[34mCollecting tqdm==4.51.0\n",
      "  Downloading tqdm-4.51.0-py2.py3-none-any.whl (70 kB)\u001b[0m\n",
      "\u001b[34mRequirement already satisfied: s3transfer<0.4.0,>=0.3.0 in /opt/conda/lib/python3.6/site-packages (from boto3==1.16.28->-r requirements.txt (line 1)) (0.3.7)\u001b[0m\n",
      "\u001b[34mRequirement already satisfied: jmespath<1.0.0,>=0.7.1 in /opt/conda/lib/python3.6/site-packages (from boto3==1.16.28->-r requirements.txt (line 1)) (0.10.0)\u001b[0m\n",
      "\u001b[34mCollecting botocore<1.20.0,>=1.19.28\n",
      "  Downloading botocore-1.19.63-py2.py3-none-any.whl (7.2 MB)\u001b[0m\n",
      "\u001b[34mRequirement already satisfied: attrs in /opt/conda/lib/python3.6/site-packages (from sagemaker==2.17.0->-r requirements.txt (line 3)) (20.3.0)\u001b[0m\n",
      "\u001b[34mRequirement already satisfied: google-pasta in /opt/conda/lib/python3.6/site-packages (from sagemaker==2.17.0->-r requirements.txt (line 3)) (0.2.0)\u001b[0m\n",
      "\u001b[34mRequirement already satisfied: protobuf>=3.1 in /opt/conda/lib/python3.6/site-packages (from sagemaker==2.17.0->-r requirements.txt (line 3)) (3.15.8)\u001b[0m\n",
      "\u001b[34mRequirement already satisfied: protobuf3-to-dict>=0.1.5 in /opt/conda/lib/python3.6/site-packages (from sagemaker==2.17.0->-r requirements.txt (line 3)) (0.1.5)\u001b[0m\n",
      "\u001b[34mCollecting smdebug-rulesconfig==0.1.5\n",
      "  Downloading smdebug_rulesconfig-0.1.5-py2.py3-none-any.whl (6.2 kB)\u001b[0m\n",
      "\u001b[34mRequirement already satisfied: importlib-metadata>=1.4.0 in /opt/conda/lib/python3.6/site-packages (from sagemaker==2.17.0->-r requirements.txt (line 3)) (3.10.1)\u001b[0m\n",
      "\u001b[34mRequirement already satisfied: packaging>=20.0 in /opt/conda/lib/python3.6/site-packages (from sagemaker==2.17.0->-r requirements.txt (line 3)) (20.9)\u001b[0m\n",
      "\u001b[34mRequirement already satisfied: six in /opt/conda/lib/python3.6/site-packages (from sagemaker-training==3.6.3.post0->-r requirements.txt (line 4)) (1.15.0)\u001b[0m\n",
      "\u001b[34mRequirement already satisfied: pip in /opt/conda/lib/python3.6/site-packages (from sagemaker-training==3.6.3.post0->-r requirements.txt (line 4)) (21.0.1)\u001b[0m\n",
      "\u001b[34mRequirement already satisfied: retrying>=1.3.3 in /opt/conda/lib/python3.6/site-packages (from sagemaker-training==3.6.3.post0->-r requirements.txt (line 4)) (1.3.3)\u001b[0m\n",
      "\u001b[34mRequirement already satisfied: gevent in /opt/conda/lib/python3.6/site-packages (from sagemaker-training==3.6.3.post0->-r requirements.txt (line 4)) (21.1.2)\u001b[0m\n",
      "\u001b[34mRequirement already satisfied: inotify_simple==1.2.1 in /opt/conda/lib/python3.6/site-packages (from sagemaker-training==3.6.3.post0->-r requirements.txt (line 4)) (1.2.1)\u001b[0m\n",
      "\u001b[34mRequirement already satisfied: werkzeug>=0.15.5 in /opt/conda/lib/python3.6/site-packages (from sagemaker-training==3.6.3.post0->-r requirements.txt (line 4)) (1.0.1)\u001b[0m\n",
      "\u001b[34mRequirement already satisfied: paramiko>=2.4.2 in /opt/conda/lib/python3.6/site-packages (from sagemaker-training==3.6.3.post0->-r requirements.txt (line 4)) (2.7.2)\u001b[0m\n",
      "\u001b[34mRequirement already satisfied: psutil>=5.6.7 in /opt/conda/lib/python3.6/site-packages (from sagemaker-training==3.6.3.post0->-r requirements.txt (line 4)) (5.6.7)\u001b[0m\n",
      "\u001b[34mRequirement already satisfied: pandas>=0.21 in /opt/conda/lib/python3.6/site-packages (from statsmodels==0.12.1->-r requirements.txt (line 8)) (1.1.5)\u001b[0m\n",
      "\u001b[34mCollecting patsy>=0.5\n",
      "  Downloading patsy-0.5.1-py2.py3-none-any.whl (231 kB)\u001b[0m\n",
      "\u001b[34mRequirement already satisfied: requests<3,>=2.21.0 in /opt/conda/lib/python3.6/site-packages (from tensorboard==2.4.0->-r requirements.txt (line 9)) (2.25.1)\u001b[0m\n",
      "\u001b[34mCollecting markdown>=2.6.8\n",
      "  Downloading Markdown-3.3.4-py3-none-any.whl (97 kB)\u001b[0m\n",
      "\u001b[34mCollecting grpcio>=1.24.3\n",
      "  Downloading grpcio-1.37.0-cp36-cp36m-manylinux2014_x86_64.whl (4.2 MB)\u001b[0m\n",
      "\u001b[34mRequirement already satisfied: setuptools>=41.0.0 in /opt/conda/lib/python3.6/site-packages (from tensorboard==2.4.0->-r requirements.txt (line 9)) (49.6.0.post20210108)\u001b[0m\n",
      "\u001b[34mCollecting tensorboard-plugin-wit>=1.6.0\n",
      "  Downloading tensorboard_plugin_wit-1.8.0-py3-none-any.whl (781 kB)\u001b[0m\n",
      "\u001b[34mCollecting google-auth-oauthlib<0.5,>=0.4.1\n",
      "  Downloading google_auth_oauthlib-0.4.4-py2.py3-none-any.whl (18 kB)\u001b[0m\n",
      "\u001b[34mRequirement already satisfied: wheel>=0.26 in /opt/conda/lib/python3.6/site-packages (from tensorboard==2.4.0->-r requirements.txt (line 9)) (0.36.2)\u001b[0m\n",
      "\u001b[34mCollecting absl-py>=0.4\n",
      "  Downloading absl_py-0.12.0-py3-none-any.whl (129 kB)\u001b[0m\n",
      "\u001b[34mCollecting google-auth<2,>=1.6.3\n",
      "  Downloading google_auth-1.30.0-py2.py3-none-any.whl (146 kB)\u001b[0m\n",
      "\u001b[34mCollecting future\n",
      "  Downloading future-0.18.2.tar.gz (829 kB)\u001b[0m\n",
      "\u001b[34mRequirement already satisfied: pillow>=4.1.1 in /opt/conda/lib/python3.6/site-packages (from torchvision==0.7.0->-r requirements.txt (line 11)) (7.1.0)\u001b[0m\n",
      "\u001b[34mRequirement already satisfied: urllib3<1.27,>=1.25.4 in /opt/conda/lib/python3.6/site-packages (from botocore<1.20.0,>=1.19.28->boto3==1.16.28->-r requirements.txt (line 1)) (1.26.4)\u001b[0m\n",
      "\u001b[34mRequirement already satisfied: python-dateutil<3.0.0,>=2.1 in /opt/conda/lib/python3.6/site-packages (from botocore<1.20.0,>=1.19.28->boto3==1.16.28->-r requirements.txt (line 1)) (2.8.1)\u001b[0m\n",
      "\u001b[34mCollecting cachetools<5.0,>=2.0.0\n",
      "  Downloading cachetools-4.2.2-py3-none-any.whl (11 kB)\u001b[0m\n",
      "\u001b[34mRequirement already satisfied: rsa<5,>=3.1.4 in /opt/conda/lib/python3.6/site-packages (from google-auth<2,>=1.6.3->tensorboard==2.4.0->-r requirements.txt (line 9)) (4.7.2)\u001b[0m\n",
      "\u001b[34mCollecting pyasn1-modules>=0.2.1\n",
      "  Downloading pyasn1_modules-0.2.8-py2.py3-none-any.whl (155 kB)\u001b[0m\n",
      "\u001b[34mCollecting requests-oauthlib>=0.7.0\n",
      "  Downloading requests_oauthlib-1.3.0-py2.py3-none-any.whl (23 kB)\u001b[0m\n",
      "\u001b[34mRequirement already satisfied: typing-extensions>=3.6.4 in /opt/conda/lib/python3.6/site-packages (from importlib-metadata>=1.4.0->sagemaker==2.17.0->-r requirements.txt (line 3)) (3.7.4.3)\u001b[0m\n",
      "\u001b[34mRequirement already satisfied: zipp>=0.5 in /opt/conda/lib/python3.6/site-packages (from importlib-metadata>=1.4.0->sagemaker==2.17.0->-r requirements.txt (line 3)) (3.4.1)\u001b[0m\n",
      "\u001b[34mRequirement already satisfied: pyparsing>=2.0.2 in /opt/conda/lib/python3.6/site-packages (from packaging>=20.0->sagemaker==2.17.0->-r requirements.txt (line 3)) (2.4.7)\u001b[0m\n",
      "\u001b[34mRequirement already satisfied: pytz>=2017.2 in /opt/conda/lib/python3.6/site-packages (from pandas>=0.21->statsmodels==0.12.1->-r requirements.txt (line 8)) (2021.1)\u001b[0m\n",
      "\u001b[34mRequirement already satisfied: pynacl>=1.0.1 in /opt/conda/lib/python3.6/site-packages (from paramiko>=2.4.2->sagemaker-training==3.6.3.post0->-r requirements.txt (line 4)) (1.4.0)\u001b[0m\n",
      "\u001b[34mRequirement already satisfied: cryptography>=2.5 in /opt/conda/lib/python3.6/site-packages (from paramiko>=2.4.2->sagemaker-training==3.6.3.post0->-r requirements.txt (line 4)) (3.4.7)\u001b[0m\n",
      "\u001b[34mRequirement already satisfied: bcrypt>=3.1.3 in /opt/conda/lib/python3.6/site-packages (from paramiko>=2.4.2->sagemaker-training==3.6.3.post0->-r requirements.txt (line 4)) (3.2.0)\u001b[0m\n",
      "\u001b[34mRequirement already satisfied: cffi>=1.1 in /opt/conda/lib/python3.6/site-packages (from bcrypt>=3.1.3->paramiko>=2.4.2->sagemaker-training==3.6.3.post0->-r requirements.txt (line 4)) (1.14.5)\u001b[0m\n",
      "\u001b[34mRequirement already satisfied: pycparser in /opt/conda/lib/python3.6/site-packages (from cffi>=1.1->bcrypt>=3.1.3->paramiko>=2.4.2->sagemaker-training==3.6.3.post0->-r requirements.txt (line 4)) (2.20)\u001b[0m\n",
      "\u001b[34mRequirement already satisfied: pyasn1<0.5.0,>=0.4.6 in /opt/conda/lib/python3.6/site-packages (from pyasn1-modules>=0.2.1->google-auth<2,>=1.6.3->tensorboard==2.4.0->-r requirements.txt (line 9)) (0.4.8)\u001b[0m\n",
      "\u001b[34mRequirement already satisfied: idna<3,>=2.5 in /opt/conda/lib/python3.6/site-packages (from requests<3,>=2.21.0->tensorboard==2.4.0->-r requirements.txt (line 9)) (2.10)\u001b[0m\n",
      "\u001b[34mRequirement already satisfied: certifi>=2017.4.17 in /opt/conda/lib/python3.6/site-packages (from requests<3,>=2.21.0->tensorboard==2.4.0->-r requirements.txt (line 9)) (2020.12.5)\u001b[0m\n",
      "\u001b[34mRequirement already satisfied: chardet<5,>=3.0.2 in /opt/conda/lib/python3.6/site-packages (from requests<3,>=2.21.0->tensorboard==2.4.0->-r requirements.txt (line 9)) (4.0.0)\u001b[0m\n",
      "\u001b[34mCollecting oauthlib>=3.0.0\n",
      "  Downloading oauthlib-3.1.0-py2.py3-none-any.whl (147 kB)\u001b[0m\n",
      "\u001b[34mRequirement already satisfied: threadpoolctl>=2.0.0 in /opt/conda/lib/python3.6/site-packages (from scikit-learn->-r requirements.txt (line 6)) (2.1.0)\u001b[0m\n",
      "\u001b[34mRequirement already satisfied: joblib>=0.11 in /opt/conda/lib/python3.6/site-packages (from scikit-learn->-r requirements.txt (line 6)) (1.0.1)\u001b[0m\n",
      "\u001b[34mRequirement already satisfied: greenlet<2.0,>=0.4.17 in /opt/conda/lib/python3.6/site-packages (from gevent->sagemaker-training==3.6.3.post0->-r requirements.txt (line 4)) (1.0.0)\u001b[0m\n",
      "\u001b[34mRequirement already satisfied: zope.interface in /opt/conda/lib/python3.6/site-packages (from gevent->sagemaker-training==3.6.3.post0->-r requirements.txt (line 4)) (5.4.0)\u001b[0m\n",
      "\u001b[34mRequirement already satisfied: zope.event in /opt/conda/lib/python3.6/site-packages (from gevent->sagemaker-training==3.6.3.post0->-r requirements.txt (line 4)) (4.5.0)\u001b[0m\n",
      "\u001b[34mBuilding wheels for collected packages: sagemaker, sagemaker-training, future\n",
      "  Building wheel for sagemaker (setup.py): started\u001b[0m\n",
      "\u001b[34m  Building wheel for sagemaker (setup.py): finished with status 'done'\n",
      "  Created wheel for sagemaker: filename=sagemaker-2.17.0-py2.py3-none-any.whl size=504484 sha256=c49a24551213b6f98e05209fabbacfddda93796a4422383513ee8822c327cf4f\n",
      "  Stored in directory: /root/.cache/pip/wheels/21/84/f4/a32616b24c1dc22cbda3fa22ae0f452db370007a228be30937\n",
      "  Building wheel for sagemaker-training (setup.py): started\n",
      "  Building wheel for sagemaker-training (setup.py): finished with status 'done'\n",
      "  Created wheel for sagemaker-training: filename=sagemaker_training-3.6.3.post0-cp36-cp36m-linux_x86_64.whl size=69301 sha256=5f678ec211a84ba0938ea19abc5a7801405945bd6436b8a37101abe889fbc107\n",
      "  Stored in directory: /root/.cache/pip/wheels/d3/bb/bb/706935c403620bc808da090ca6bfc25cbe9bbab8622d14e143\n",
      "  Building wheel for future (setup.py): started\u001b[0m\n",
      "\u001b[34m  Building wheel for future (setup.py): finished with status 'done'\n",
      "  Created wheel for future: filename=future-0.18.2-py3-none-any.whl size=491059 sha256=ff4e7657401ef5caa404b6dd0b2d0738e6bfad2682b4e227ea643f2afcb14834\n",
      "  Stored in directory: /root/.cache/pip/wheels/6e/9c/ed/4499c9865ac1002697793e0ae05ba6be33553d098f3347fb94\u001b[0m\n",
      "\u001b[34mSuccessfully built sagemaker sagemaker-training future\u001b[0m\n",
      "\u001b[34mInstalling collected packages: pyasn1-modules, oauthlib, cachetools, botocore, requests-oauthlib, numpy, google-auth, future, torch, tensorboard-plugin-wit, smdebug-rulesconfig, patsy, markdown, grpcio, google-auth-oauthlib, boto3, absl-py, tqdm, torchvision, tensorboard, statsmodels, smdebug, sagemaker-training, sagemaker\u001b[0m\n",
      "\u001b[34m  Attempting uninstall: botocore\n",
      "    Found existing installation: botocore 1.20.52\n",
      "    Uninstalling botocore-1.20.52:\n",
      "      Successfully uninstalled botocore-1.20.52\n",
      "  Attempting uninstall: numpy\n",
      "    Found existing installation: numpy 1.19.1\n",
      "    Uninstalling numpy-1.19.1:\n",
      "      Successfully uninstalled numpy-1.19.1\u001b[0m\n",
      "\u001b[34m  Attempting uninstall: torch\n",
      "    Found existing installation: torch 1.7.1\u001b[0m\n",
      "\u001b[34m    Uninstalling torch-1.7.1:\n",
      "      Successfully uninstalled torch-1.7.1\u001b[0m\n",
      "\u001b[34m  Attempting uninstall: smdebug-rulesconfig\n",
      "    Found existing installation: smdebug-rulesconfig 1.0.1\n",
      "    Uninstalling smdebug-rulesconfig-1.0.1:\n",
      "      Successfully uninstalled smdebug-rulesconfig-1.0.1\n",
      "  Attempting uninstall: boto3\n",
      "    Found existing installation: boto3 1.17.52\n",
      "    Uninstalling boto3-1.17.52:\n",
      "      Successfully uninstalled boto3-1.17.52\n",
      "  Attempting uninstall: tqdm\n",
      "    Found existing installation: tqdm 4.59.0\n",
      "    Uninstalling tqdm-4.59.0:\n",
      "      Successfully uninstalled tqdm-4.59.0\n",
      "  Attempting uninstall: torchvision\n",
      "    Found existing installation: torchvision 0.8.2\n",
      "    Uninstalling torchvision-0.8.2:\n",
      "      Successfully uninstalled torchvision-0.8.2\u001b[0m\n",
      "\u001b[34m  Attempting uninstall: smdebug\n",
      "    Found existing installation: smdebug 1.0.8\n",
      "    Uninstalling smdebug-1.0.8:\n",
      "      Successfully uninstalled smdebug-1.0.8\n",
      "  Attempting uninstall: sagemaker-training\n",
      "    Found existing installation: sagemaker-training 3.9.1\n",
      "    Uninstalling sagemaker-training-3.9.1:\u001b[0m\n",
      "\u001b[34m      Successfully uninstalled sagemaker-training-3.9.1\u001b[0m\n",
      "\u001b[34m  Attempting uninstall: sagemaker\n",
      "    Found existing installation: sagemaker 2.35.0\n",
      "    Uninstalling sagemaker-2.35.0:\n",
      "      Successfully uninstalled sagemaker-2.35.0\u001b[0m\n",
      "\u001b[34mSuccessfully installed absl-py-0.12.0 boto3-1.16.28 botocore-1.19.63 cachetools-4.2.2 future-0.18.2 google-auth-1.30.0 google-auth-oauthlib-0.4.4 grpcio-1.37.0 markdown-3.3.4 numpy-1.18.4 oauthlib-3.1.0 patsy-0.5.1 pyasn1-modules-0.2.8 requests-oauthlib-1.3.0 sagemaker-2.17.0 sagemaker-training-3.6.3.post0 smdebug-0.9.5 smdebug-rulesconfig-0.1.5 statsmodels-0.12.1 tensorboard-2.4.0 tensorboard-plugin-wit-1.8.0 torch-1.6.0 torchvision-0.7.0 tqdm-4.51.0\u001b[0m\n",
      "\u001b[34mERROR: pip's dependency resolver does not currently take into account all the packages that are installed. This behaviour is the source of the following dependency conflicts.\u001b[0m\n",
      "\u001b[34msagemaker-pytorch-training 2.4.0 requires sagemaker-training>=3.7.0, but you have sagemaker-training 3.6.3.post0 which is incompatible.\u001b[0m\n",
      "\u001b[34mawscli 1.19.52 requires botocore==1.20.52, but you have botocore 1.19.63 which is incompatible.\n",
      "\u001b[0m\n",
      "\u001b[34m2021-04-29 15:37:45,314 sagemaker-training-toolkit INFO     No GPUs detected (normal if no gpus installed)\u001b[0m\n",
      "\u001b[34m2021-04-29 15:37:45,325 sagemaker-training-toolkit INFO     No GPUs detected (normal if no gpus installed)\u001b[0m\n",
      "\u001b[34m2021-04-29 15:37:45,336 sagemaker-training-toolkit INFO     No GPUs detected (normal if no gpus installed)\u001b[0m\n",
      "\u001b[34m2021-04-29 15:37:45,345 sagemaker-training-toolkit INFO     Invoking user script\n",
      "\u001b[0m\n",
      "\u001b[34mTraining Env:\n",
      "\u001b[0m\n",
      "\u001b[34m{\n",
      "    \"additional_framework_parameters\": {},\n",
      "    \"channel_input_dirs\": {\n",
      "        \"training\": \"/opt/ml/input/data/training\"\n",
      "    },\n",
      "    \"current_host\": \"algo-1\",\n",
      "    \"framework_module\": \"sagemaker_pytorch_container.training:main\",\n",
      "    \"hosts\": [\n",
      "        \"algo-1\"\n",
      "    ],\n",
      "    \"hyperparameters\": {\n",
      "        \"batch_size\": 16,\n",
      "        \"embedding_dims\": 128,\n",
      "        \"initial_lr\": 0.025,\n",
      "        \"n_workers\": 16,\n",
      "        \"epochs\": 3\n",
      "    },\n",
      "    \"input_config_dir\": \"/opt/ml/input/config\",\n",
      "    \"input_data_config\": {\n",
      "        \"training\": {\n",
      "            \"TrainingInputMode\": \"File\",\n",
      "            \"S3DistributionType\": \"FullyReplicated\",\n",
      "            \"RecordWrapperType\": \"None\"\n",
      "        }\n",
      "    },\n",
      "    \"input_dir\": \"/opt/ml/input\",\n",
      "    \"is_master\": true,\n",
      "    \"job_name\": \"pytorch-training-2021-04-29-15-33-25-836\",\n",
      "    \"log_level\": 20,\n",
      "    \"master_hostname\": \"algo-1\",\n",
      "    \"model_dir\": \"/opt/ml/model\",\n",
      "    \"module_dir\": \"s3://sagemaker-us-east-1-761655029435/pytorch-training-2021-04-29-15-33-25-836/source/sourcedir.tar.gz\",\n",
      "    \"module_name\": \"train\",\n",
      "    \"network_interface_name\": \"eth0\",\n",
      "    \"num_cpus\": 4,\n",
      "    \"num_gpus\": 0,\n",
      "    \"output_data_dir\": \"/opt/ml/output/data\",\n",
      "    \"output_dir\": \"/opt/ml/output\",\n",
      "    \"output_intermediate_dir\": \"/opt/ml/output/intermediate\",\n",
      "    \"resource_config\": {\n",
      "        \"current_host\": \"algo-1\",\n",
      "        \"hosts\": [\n",
      "            \"algo-1\"\n",
      "        ],\n",
      "        \"network_interface_name\": \"eth0\"\n",
      "    },\n",
      "    \"user_entry_point\": \"train.py\"\u001b[0m\n",
      "\u001b[34m}\n",
      "\u001b[0m\n",
      "\u001b[34mEnvironment variables:\n",
      "\u001b[0m\n",
      "\u001b[34mSM_HOSTS=[\"algo-1\"]\u001b[0m\n",
      "\u001b[34mSM_NETWORK_INTERFACE_NAME=eth0\u001b[0m\n",
      "\u001b[34mSM_HPS={\"batch_size\":16,\"embedding_dims\":128,\"epochs\":3,\"initial_lr\":0.025,\"n_workers\":16}\u001b[0m\n",
      "\u001b[34mSM_USER_ENTRY_POINT=train.py\u001b[0m\n",
      "\u001b[34mSM_FRAMEWORK_PARAMS={}\u001b[0m\n",
      "\u001b[34mSM_RESOURCE_CONFIG={\"current_host\":\"algo-1\",\"hosts\":[\"algo-1\"],\"network_interface_name\":\"eth0\"}\u001b[0m\n",
      "\u001b[34mSM_INPUT_DATA_CONFIG={\"training\":{\"RecordWrapperType\":\"None\",\"S3DistributionType\":\"FullyReplicated\",\"TrainingInputMode\":\"File\"}}\u001b[0m\n",
      "\u001b[34mSM_OUTPUT_DATA_DIR=/opt/ml/output/data\u001b[0m\n",
      "\u001b[34mSM_CHANNELS=[\"training\"]\u001b[0m\n",
      "\u001b[34mSM_CURRENT_HOST=algo-1\u001b[0m\n",
      "\u001b[34mSM_MODULE_NAME=train\u001b[0m\n",
      "\u001b[34mSM_LOG_LEVEL=20\u001b[0m\n",
      "\u001b[34mSM_FRAMEWORK_MODULE=sagemaker_pytorch_container.training:main\u001b[0m\n",
      "\u001b[34mSM_INPUT_DIR=/opt/ml/input\u001b[0m\n",
      "\u001b[34mSM_INPUT_CONFIG_DIR=/opt/ml/input/config\u001b[0m\n",
      "\u001b[34mSM_OUTPUT_DIR=/opt/ml/output\u001b[0m\n",
      "\u001b[34mSM_NUM_CPUS=4\u001b[0m\n",
      "\u001b[34mSM_NUM_GPUS=0\u001b[0m\n",
      "\u001b[34mSM_MODEL_DIR=/opt/ml/model\u001b[0m\n",
      "\u001b[34mSM_MODULE_DIR=s3://sagemaker-us-east-1-761655029435/pytorch-training-2021-04-29-15-33-25-836/source/sourcedir.tar.gz\u001b[0m\n",
      "\u001b[34mSM_TRAINING_ENV={\"additional_framework_parameters\":{},\"channel_input_dirs\":{\"training\":\"/opt/ml/input/data/training\"},\"current_host\":\"algo-1\",\"framework_module\":\"sagemaker_pytorch_container.training:main\",\"hosts\":[\"algo-1\"],\"hyperparameters\":{\"batch_size\":16,\"embedding_dims\":128,\"epochs\":3,\"initial_lr\":0.025,\"n_workers\":16},\"input_config_dir\":\"/opt/ml/input/config\",\"input_data_config\":{\"training\":{\"RecordWrapperType\":\"None\",\"S3DistributionType\":\"FullyReplicated\",\"TrainingInputMode\":\"File\"}},\"input_dir\":\"/opt/ml/input\",\"is_master\":true,\"job_name\":\"pytorch-training-2021-04-29-15-33-25-836\",\"log_level\":20,\"master_hostname\":\"algo-1\",\"model_dir\":\"/opt/ml/model\",\"module_dir\":\"s3://sagemaker-us-east-1-761655029435/pytorch-training-2021-04-29-15-33-25-836/source/sourcedir.tar.gz\",\"module_name\":\"train\",\"network_interface_name\":\"eth0\",\"num_cpus\":4,\"num_gpus\":0,\"output_data_dir\":\"/opt/ml/output/data\",\"output_dir\":\"/opt/ml/output\",\"output_intermediate_dir\":\"/opt/ml/output/intermediate\",\"resource_config\":{\"current_host\":\"algo-1\",\"hosts\":[\"algo-1\"],\"network_interface_name\":\"eth0\"},\"user_entry_point\":\"train.py\"}\u001b[0m\n",
      "\u001b[34mSM_USER_ARGS=[\"--batch_size\",\"16\",\"--embedding_dims\",\"128\",\"--epochs\",\"3\",\"--initial_lr\",\"0.025\",\"--n_workers\",\"16\"]\u001b[0m\n",
      "\u001b[34mSM_OUTPUT_INTERMEDIATE_DIR=/opt/ml/output/intermediate\u001b[0m\n",
      "\u001b[34mSM_CHANNEL_TRAINING=/opt/ml/input/data/training\u001b[0m\n",
      "\u001b[34mSM_HP_BATCH_SIZE=16\u001b[0m\n",
      "\u001b[34mSM_HP_EMBEDDING_DIMS=128\u001b[0m\n",
      "\u001b[34mSM_HP_INITIAL_LR=0.025\u001b[0m\n",
      "\u001b[34mSM_HP_N_WORKERS=16\u001b[0m\n",
      "\u001b[34mSM_HP_EPOCHS=3\u001b[0m\n",
      "\u001b[34mPYTHONPATH=/opt/ml/code:/opt/conda/bin:/opt/conda/lib/python36.zip:/opt/conda/lib/python3.6:/opt/conda/lib/python3.6/lib-dynload:/opt/conda/lib/python3.6/site-packages\n",
      "\u001b[0m\n",
      "\u001b[34mInvoking script with the following command:\n",
      "\u001b[0m\n",
      "\u001b[34m/opt/conda/bin/python3.6 train.py --batch_size 16 --embedding_dims 128 --epochs 3 --initial_lr 0.025 --n_workers 16\n",
      "\n",
      "\u001b[0m\n",
      "\u001b[34mmodel_dir: /opt/ml/model\u001b[0m\n",
      "\u001b[34mArgs here: Namespace(batch_size=8, current_host='algo-1', data_dir='/opt/ml/input/data/training', embedding_dims=128, epochs=3, hosts=['[', '\"', 'a', 'l', 'g', 'o', '-', '1', '\"', ']'], initial_lr=0.01, model_dir='/opt/ml/model', n_workers=4, num_gpus=0, output_data_dir='/opt/ml/output/data', shuffle=True)\u001b[0m\n",
      "\u001b[34mvocab_size:628\u001b[0m\n",
      "\u001b[34mNumber of gpus available - 0\u001b[0m\n",
      "\u001b[34mSequences loaded (length = 37,904)\u001b[0m\n",
      "\u001b[34mLocation frequency calculated\u001b[0m\n",
      "\u001b[34mNo. of unique tokens: 628\u001b[0m\n",
      "\u001b[34mLoc2Id and Id2Loc created and saved\u001b[0m\n",
      "\u001b[34mConvert sequence and location freq to ID\u001b[0m\n",
      "\u001b[34mDiscard probability calculated\u001b[0m\n",
      "\u001b[34mNegative sample table created\u001b[0m\n",
      "\u001b[34mEpoch: 0, Loss: 1.7837, Lr: 0.000000\u001b[0m\n",
      "\u001b[34mModel state dict saved to /opt/ml/model/model_checkpoint.pth\u001b[0m\n",
      "\u001b[34mEpoch: 1, Loss: 1.6664, Lr: 0.000000\u001b[0m\n",
      "\u001b[34mModel state dict saved to /opt/ml/model/model_checkpoint.pth\u001b[0m\n",
      "\n",
      "2021-04-29 15:38:27 Uploading - Uploading generated training model\u001b[34mEpoch: 2, Loss: 1.4787, Lr: 0.000000\u001b[0m\n",
      "\u001b[34mModel state dict saved to /opt/ml/model/model_checkpoint.pth\u001b[0m\n",
      "\u001b[34mTotal time taken: 0.57 minutes\u001b[0m\n",
      "\u001b[34m#015  0%|          | 0/3 [00:00<?, ?it/s]#015 33%|███▎      | 1/3 [00:11<00:22, 11.20s/it]#015 67%|██████▋   | 2/3 [00:23<00:11, 11.39s/it]#015100%|██████████| 3/3 [00:34<00:00, 11.31s/it]#015100%|██████████| 3/3 [00:34<00:00, 11.39s/it]\n",
      "\u001b[0m\n",
      "\u001b[34m2021-04-29 15:38:22,165 sagemaker-training-toolkit INFO     Reporting training SUCCESS\u001b[0m\n",
      "\n",
      "2021-04-29 15:38:36 Completed - Training job completed\n",
      "Training seconds: 155\n",
      "Billable seconds: 155\n"
     ]
    }
   ],
   "source": [
    "from sagemaker.pytorch import PyTorch\n",
    "\n",
    "# place to save model artifact\n",
    "output_path = f\"s3://{bucket}/{prefix}/output/\"\n",
    "\n",
    "\n",
    "estimator = PyTorch(\n",
    "    entry_point=\"train.py\",\n",
    "    source_dir=\"src\",\n",
    "    role=role,\n",
    "    framework_version=\"1.7.1\",\n",
    "    py_version=\"py3\",\n",
    "    instance_count=1,\n",
    "    instance_type=\"ml.c5.xlarge\",\n",
    "    output_path=output_path,\n",
    "    hyperparameters={\n",
    "        \"embedding_dims\": 128,\n",
    "        \"initial_lr\": 0.025,\n",
    "        \"epochs\": 3,\n",
    "        \"batch_size\": 16,\n",
    "        \"n_workers\": 16,\n",
    "    }\n",
    ")\n",
    "estimator.fit({\"training\": f\"s3://{bucket}/{prefix}/train\"})\n"
   ]
  },
  {
   "cell_type": "markdown",
   "id": "613231bc",
   "metadata": {},
   "source": [
    "## PyTorchModel - Deploy endpoint"
   ]
  },
  {
   "cell_type": "code",
   "execution_count": 8,
   "id": "30102435",
   "metadata": {},
   "outputs": [
    {
     "data": {
      "text/plain": [
       "'s3://sagemaker-us-east-1-761655029435/sagemaker/DEMO-pytorch-rea/output/pytorch-training-2021-04-29-15-33-25-836/output/model.tar.gz'"
      ]
     },
     "execution_count": 8,
     "metadata": {},
     "output_type": "execute_result"
    }
   ],
   "source": [
    "estimator.latest_training_job.describe()['ModelArtifacts']['S3ModelArtifacts']"
   ]
  },
  {
   "cell_type": "code",
   "execution_count": 11,
   "id": "9d735439",
   "metadata": {},
   "outputs": [],
   "source": [
    "model_path=estimator.latest_training_job.describe()['ModelArtifacts']['S3ModelArtifacts']"
   ]
  },
  {
   "cell_type": "code",
   "execution_count": 12,
   "id": "105a80a3",
   "metadata": {},
   "outputs": [],
   "source": [
    "from sagemaker.pytorch.model import PyTorchModel\n",
    "\n",
    "pytorch_model = PyTorchModel(model_data=model_path,\n",
    "                             entry_point='inference.py',\n",
    "                             source_dir='src',\n",
    "                             role=role,\n",
    "                             framework_version='1.7.1',\n",
    "                             py_version='py3')"
   ]
  },
  {
   "cell_type": "code",
   "execution_count": 13,
   "id": "b13daaf5",
   "metadata": {},
   "outputs": [
    {
     "name": "stdout",
     "output_type": "stream",
     "text": [
      "-------------!"
     ]
    }
   ],
   "source": [
    "predictor = pytorch_model.deploy(instance_type='ml.c5.xlarge', initial_instance_count=1, endpoint_name='pytorch-inference')"
   ]
  },
  {
   "cell_type": "markdown",
   "id": "e543912c",
   "metadata": {},
   "source": [
    "## Invoke endpoint"
   ]
  },
  {
   "cell_type": "code",
   "execution_count": 15,
   "id": "ac934b01",
   "metadata": {},
   "outputs": [
    {
     "name": "stdout",
     "output_type": "stream",
     "text": [
      "Predicted label is [\n",
      "  {\n",
      "    \"id\": 26,\n",
      "    \"score\": 0.0,\n",
      "    \"global_id\": \"mycty_51549\"\n",
      "  },\n",
      "  {\n",
      "    \"id\": 214,\n",
      "    \"score\": 0.2046120132840531,\n",
      "    \"global_id\": \"mycty_51540\"\n",
      "  },\n",
      "  {\n",
      "    \"id\": 515,\n",
      "    \"score\": 0.22188108672158147,\n",
      "    \"global_id\": \"mycty_51576\"\n",
      "  },\n",
      "  {\n",
      "    \"id\": 201,\n",
      "    \"score\": 0.24459431622790895,\n",
      "    \"global_id\": \"mycty_51723\"\n",
      "  },\n",
      "  {\n",
      "    \"id\": 11,\n",
      "    \"score\": 0.2571738318739417,\n",
      "    \"global_id\": \"mycty_51387\"\n",
      "  },\n",
      "  {\n",
      "    \"id\": 522,\n",
      "    \"score\": 0.270982997163975,\n",
      "    \"global_id\": \"mycty_51565\"\n",
      "  }\n",
      "].\n"
     ]
    }
   ],
   "source": [
    "import json\n",
    "import boto3\n",
    "\n",
    "\n",
    "endpoint_name = \"pytorch-inference-2021-04-29-15-43-06-166\"\n",
    "single_test = json.dumps({\"locationIDInput\": ['mycty_51549'], \"count\": 5})\n",
    "runtime_client = boto3.client('runtime.sagemaker')\n",
    "response = runtime_client.invoke_endpoint(EndpointName = endpoint_name,\n",
    "                                            ContentType = 'application/json',\n",
    "                                            Body = single_test)\n",
    "result = response['Body'].read().decode('ascii')\n",
    "print('Predicted label is {}.'.format(result))"
   ]
  },
  {
   "cell_type": "markdown",
   "id": "38600602",
   "metadata": {},
   "source": [
    "## Deploy multimodel endpoint"
   ]
  },
  {
   "cell_type": "code",
   "execution_count": 16,
   "id": "b83d3442",
   "metadata": {},
   "outputs": [],
   "source": [
    "from sagemaker.multidatamodel import MultiDataModel"
   ]
  },
  {
   "cell_type": "code",
   "execution_count": 48,
   "id": "dd710f7d",
   "metadata": {},
   "outputs": [],
   "source": [
    "# This is where our MME will read models from on S3.\n",
    "model_data_prefix = f's3://{bucket}/{prefix}/mme-artifacts/'"
   ]
  },
  {
   "cell_type": "code",
   "execution_count": 49,
   "id": "98d22cf8",
   "metadata": {},
   "outputs": [
    {
     "data": {
      "text/plain": [
       "'s3://sagemaker-us-east-1-761655029435/sagemaker/DEMO-pytorch-rea/mme-artifacts/'"
      ]
     },
     "execution_count": 49,
     "metadata": {},
     "output_type": "execute_result"
    }
   ],
   "source": [
    "model_data_prefix"
   ]
  },
  {
   "cell_type": "code",
   "execution_count": 32,
   "id": "50f34d80",
   "metadata": {},
   "outputs": [],
   "source": [
    "mme = MultiDataModel(name='pytorch-mme-v1',\n",
    "                     model_data_prefix=model_data_prefix,\n",
    "                     model=pytorch_model,# passing our model - passes container image needed for the endpoint\n",
    "                     sagemaker_session=sagemaker_session)\n",
    "\n"
   ]
  },
  {
   "cell_type": "code",
   "execution_count": 33,
   "id": "056d755e",
   "metadata": {},
   "outputs": [
    {
     "name": "stdout",
     "output_type": "stream",
     "text": [
      "-------------!"
     ]
    }
   ],
   "source": [
    "\n",
    "predictor = mme.deploy(initial_instance_count=1,\n",
    "                       instance_type='ml.c5.xlarge',\n",
    "                       endpoint_name='pytorch-mme-v1')"
   ]
  },
  {
   "cell_type": "code",
   "execution_count": 34,
   "id": "4dfdad19",
   "metadata": {},
   "outputs": [
    {
     "data": {
      "text/plain": [
       "[]"
      ]
     },
     "execution_count": 34,
     "metadata": {},
     "output_type": "execute_result"
    }
   ],
   "source": [
    "# No models visible!\n",
    "list(mme.list_models())\n",
    "\n"
   ]
  },
  {
   "cell_type": "code",
   "execution_count": 45,
   "id": "a2c5dc57",
   "metadata": {},
   "outputs": [
    {
     "data": {
      "text/plain": [
       "'s3://sagemaker-us-east-1-761655029435/sagemaker/DEMO-pytorch-rea/mme-artifactsv2/Model2.tar.gz'"
      ]
     },
     "execution_count": 45,
     "metadata": {},
     "output_type": "execute_result"
    }
   ],
   "source": [
    "## Add first model\n",
    "artifact_path1 = estimator.latest_training_job.describe()['ModelArtifacts']['S3ModelArtifacts']\n",
    "# This is copying over the model artifact to the S3 location for the MME.\n",
    "mme.add_model(model_data_source=artifact_path1, model_data_path='Model1.tar.gz')\n",
    "\n",
    "## Add second model\n",
    "artifact_path2 = estimator.latest_training_job.describe()['ModelArtifacts']['S3ModelArtifacts']\n",
    "# This is copying over the model artifact to the S3 location for the MME.\n",
    "mme.add_model(model_data_source=artifact_path2, model_data_path='Model2.tar.gz')\n",
    "\n"
   ]
  },
  {
   "cell_type": "code",
   "execution_count": 46,
   "id": "dab01af4",
   "metadata": {},
   "outputs": [
    {
     "name": "stdout",
     "output_type": "stream",
     "text": [
      "2021-04-29 16:58:40    2353140 Model1.tar.gz\n",
      "2021-04-29 16:58:40    2353140 Model2.tar.gz\n"
     ]
    }
   ],
   "source": [
    "!aws s3 ls $model_data_prefix"
   ]
  },
  {
   "cell_type": "code",
   "execution_count": 47,
   "id": "e8185cc6",
   "metadata": {},
   "outputs": [
    {
     "data": {
      "text/plain": [
       "['Model1.tar.gz', 'Model2.tar.gz']"
      ]
     },
     "execution_count": 47,
     "metadata": {},
     "output_type": "execute_result"
    }
   ],
   "source": [
    "list(mme.list_models())"
   ]
  },
  {
   "cell_type": "code",
   "execution_count": 44,
   "id": "a7b5a85c",
   "metadata": {},
   "outputs": [
    {
     "ename": "ModelError",
     "evalue": "An error occurred (ModelError) when calling the InvokeEndpoint operation: Received client error (400) from model with message \"{\n  \"code\": 400,\n  \"type\": \"InvalidModelException\",\n  \"message\": \"Model version is not defined.\"\n}\n\". See https://us-east-1.console.aws.amazon.com/cloudwatch/home?region=us-east-1#logEventViewer:group=/aws/sagemaker/Endpoints/pytorch-mme-v1 in account 761655029435 for more information.",
     "output_type": "error",
     "traceback": [
      "\u001b[0;31m---------------------------------------------------------------------------\u001b[0m",
      "\u001b[0;31mModelError\u001b[0m                                Traceback (most recent call last)",
      "\u001b[0;32m<ipython-input-44-d5abf09bb50c>\u001b[0m in \u001b[0;36m<module>\u001b[0;34m\u001b[0m\n\u001b[1;32m     10\u001b[0m                                             \u001b[0mContentType\u001b[0m \u001b[0;34m=\u001b[0m \u001b[0;34m'application/json'\u001b[0m\u001b[0;34m,\u001b[0m\u001b[0;34m\u001b[0m\u001b[0;34m\u001b[0m\u001b[0m\n\u001b[1;32m     11\u001b[0m                                             \u001b[0mTargetModel\u001b[0m  \u001b[0;34m=\u001b[0m \u001b[0;34m'Model1.tar.gz'\u001b[0m\u001b[0;34m,\u001b[0m\u001b[0;34m\u001b[0m\u001b[0;34m\u001b[0m\u001b[0m\n\u001b[0;32m---> 12\u001b[0;31m                                             Body = single_test)\n\u001b[0m\u001b[1;32m     13\u001b[0m \u001b[0mresult\u001b[0m \u001b[0;34m=\u001b[0m \u001b[0mresponse\u001b[0m\u001b[0;34m[\u001b[0m\u001b[0;34m'Body'\u001b[0m\u001b[0;34m]\u001b[0m\u001b[0;34m.\u001b[0m\u001b[0mread\u001b[0m\u001b[0;34m(\u001b[0m\u001b[0;34m)\u001b[0m\u001b[0;34m.\u001b[0m\u001b[0mdecode\u001b[0m\u001b[0;34m(\u001b[0m\u001b[0;34m'ascii'\u001b[0m\u001b[0;34m)\u001b[0m\u001b[0;34m\u001b[0m\u001b[0;34m\u001b[0m\u001b[0m\n",
      "\u001b[0;32m~/anaconda3/envs/pytorch_p36/lib/python3.6/site-packages/botocore/client.py\u001b[0m in \u001b[0;36m_api_call\u001b[0;34m(self, *args, **kwargs)\u001b[0m\n\u001b[1;32m    355\u001b[0m                     \"%s() only accepts keyword arguments.\" % py_operation_name)\n\u001b[1;32m    356\u001b[0m             \u001b[0;31m# The \"self\" in this scope is referring to the BaseClient.\u001b[0m\u001b[0;34m\u001b[0m\u001b[0;34m\u001b[0m\u001b[0;34m\u001b[0m\u001b[0m\n\u001b[0;32m--> 357\u001b[0;31m             \u001b[0;32mreturn\u001b[0m \u001b[0mself\u001b[0m\u001b[0;34m.\u001b[0m\u001b[0m_make_api_call\u001b[0m\u001b[0;34m(\u001b[0m\u001b[0moperation_name\u001b[0m\u001b[0;34m,\u001b[0m \u001b[0mkwargs\u001b[0m\u001b[0;34m)\u001b[0m\u001b[0;34m\u001b[0m\u001b[0;34m\u001b[0m\u001b[0m\n\u001b[0m\u001b[1;32m    358\u001b[0m \u001b[0;34m\u001b[0m\u001b[0m\n\u001b[1;32m    359\u001b[0m         \u001b[0m_api_call\u001b[0m\u001b[0;34m.\u001b[0m\u001b[0m__name__\u001b[0m \u001b[0;34m=\u001b[0m \u001b[0mstr\u001b[0m\u001b[0;34m(\u001b[0m\u001b[0mpy_operation_name\u001b[0m\u001b[0;34m)\u001b[0m\u001b[0;34m\u001b[0m\u001b[0;34m\u001b[0m\u001b[0m\n",
      "\u001b[0;32m~/anaconda3/envs/pytorch_p36/lib/python3.6/site-packages/botocore/client.py\u001b[0m in \u001b[0;36m_make_api_call\u001b[0;34m(self, operation_name, api_params)\u001b[0m\n\u001b[1;32m    674\u001b[0m             \u001b[0merror_code\u001b[0m \u001b[0;34m=\u001b[0m \u001b[0mparsed_response\u001b[0m\u001b[0;34m.\u001b[0m\u001b[0mget\u001b[0m\u001b[0;34m(\u001b[0m\u001b[0;34m\"Error\"\u001b[0m\u001b[0;34m,\u001b[0m \u001b[0;34m{\u001b[0m\u001b[0;34m}\u001b[0m\u001b[0;34m)\u001b[0m\u001b[0;34m.\u001b[0m\u001b[0mget\u001b[0m\u001b[0;34m(\u001b[0m\u001b[0;34m\"Code\"\u001b[0m\u001b[0;34m)\u001b[0m\u001b[0;34m\u001b[0m\u001b[0;34m\u001b[0m\u001b[0m\n\u001b[1;32m    675\u001b[0m             \u001b[0merror_class\u001b[0m \u001b[0;34m=\u001b[0m \u001b[0mself\u001b[0m\u001b[0;34m.\u001b[0m\u001b[0mexceptions\u001b[0m\u001b[0;34m.\u001b[0m\u001b[0mfrom_code\u001b[0m\u001b[0;34m(\u001b[0m\u001b[0merror_code\u001b[0m\u001b[0;34m)\u001b[0m\u001b[0;34m\u001b[0m\u001b[0;34m\u001b[0m\u001b[0m\n\u001b[0;32m--> 676\u001b[0;31m             \u001b[0;32mraise\u001b[0m \u001b[0merror_class\u001b[0m\u001b[0;34m(\u001b[0m\u001b[0mparsed_response\u001b[0m\u001b[0;34m,\u001b[0m \u001b[0moperation_name\u001b[0m\u001b[0;34m)\u001b[0m\u001b[0;34m\u001b[0m\u001b[0;34m\u001b[0m\u001b[0m\n\u001b[0m\u001b[1;32m    677\u001b[0m         \u001b[0;32melse\u001b[0m\u001b[0;34m:\u001b[0m\u001b[0;34m\u001b[0m\u001b[0;34m\u001b[0m\u001b[0m\n\u001b[1;32m    678\u001b[0m             \u001b[0;32mreturn\u001b[0m \u001b[0mparsed_response\u001b[0m\u001b[0;34m\u001b[0m\u001b[0;34m\u001b[0m\u001b[0m\n",
      "\u001b[0;31mModelError\u001b[0m: An error occurred (ModelError) when calling the InvokeEndpoint operation: Received client error (400) from model with message \"{\n  \"code\": 400,\n  \"type\": \"InvalidModelException\",\n  \"message\": \"Model version is not defined.\"\n}\n\". See https://us-east-1.console.aws.amazon.com/cloudwatch/home?region=us-east-1#logEventViewer:group=/aws/sagemaker/Endpoints/pytorch-mme-v1 in account 761655029435 for more information."
     ]
    }
   ],
   "source": [
    "import json\n",
    "import boto3\n",
    "\n",
    "\n",
    "endpoint_name = \"pytorch-mme-v1\"\n",
    "single_test = json.dumps({\"locationIDInput\": ['mycty_51549'], \"count\": 5})\n",
    "runtime_client = boto3.client('runtime.sagemaker')\n",
    "\n",
    "response = runtime_client.invoke_endpoint(EndpointName = endpoint_name,\n",
    "                                            ContentType = 'application/json',\n",
    "                                            TargetModel  = 'Model1.tar.gz',\n",
    "                                            Body = single_test)\n",
    "result = response['Body'].read().decode('ascii')"
   ]
  },
  {
   "cell_type": "code",
   "execution_count": null,
   "id": "e18259b8",
   "metadata": {},
   "outputs": [],
   "source": []
  }
 ],
 "metadata": {
  "kernelspec": {
   "display_name": "conda_pytorch_p36",
   "language": "python",
   "name": "conda_pytorch_p36"
  },
  "language_info": {
   "codemirror_mode": {
    "name": "ipython",
    "version": 3
   },
   "file_extension": ".py",
   "mimetype": "text/x-python",
   "name": "python",
   "nbconvert_exporter": "python",
   "pygments_lexer": "ipython3",
   "version": "3.6.13"
  }
 },
 "nbformat": 4,
 "nbformat_minor": 5
}
